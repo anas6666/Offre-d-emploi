{
 "cells": [
  {
   "cell_type": "code",
   "execution_count": 260,
   "id": "804742ee",
   "metadata": {},
   "outputs": [],
   "source": [
    "import pandas as pd\n",
    "import numpy as np\n",
    "import matplotlib.pyplot as plt\n",
    "import requests\n",
    "import re\n",
    "from bs4 import BeautifulSoup as bs\n",
    "import os \n",
    "import glob\n",
    "import time\n",
    "import re\n",
    "from tqdm.notebook import tqdm, trange"
   ]
  },
  {
   "cell_type": "markdown",
   "id": "cead72b6",
   "metadata": {},
   "source": [
    "## COMBIEN MULTPLE FILES INTO ONE"
   ]
  },
  {
   "cell_type": "code",
   "execution_count": null,
   "id": "3fe4d385",
   "metadata": {},
   "outputs": [],
   "source": [
    "path = r'C:\\Users\\Dell\\Documents\\Data powerBi\\Dataset\\New folder\\New folder'\n",
    "all_files = glob.glob(os.path.join(path,\"*.csv\"))\n",
    "df = pd.concat((pd.read_csv(f) for f in all_files))\n",
    "df\n",
    "\n",
    "df.to_csv('jobs_full.csv', index= False)"
   ]
  },
  {
   "cell_type": "code",
   "execution_count": 293,
   "id": "48ae7574",
   "metadata": {},
   "outputs": [],
   "source": [
    "data = pd.read_csv('jobs_full.csv')"
   ]
  },
  {
   "cell_type": "markdown",
   "id": "2874b632",
   "metadata": {},
   "source": [
    "## location"
   ]
  },
  {
   "cell_type": "code",
   "execution_count": 294,
   "id": "d0456b79",
   "metadata": {},
   "outputs": [
    {
     "name": "stdout",
     "output_type": "stream",
     "text": [
      "['Agadir ', 'Al hoceima ', 'Assilah ', 'Autre ville ', 'Azrou ', 'Benguerir ', 'Beni Mellal ', 'Benslimane ', 'Berkane ', 'Berrechid ', 'Boujdour ', 'Bouskoura ', 'Bouznika ', 'Casablanca ', 'Chafchaouen ', 'Dakhla ', 'Deroua ', 'El jadida ', 'Errachidia ', 'Essaouira ', 'Essmara ', 'Fkih Ben Salah ', 'Fès ', 'Guelmim ', 'Ifrane ', 'Imouzzer Kandar ', 'Kabila ', 'Khemisset ', 'Khenifra ', 'Khouribga ', 'Kénitra ', 'Laayoune ', 'Larache ', 'Marrakech ', 'Martil ', 'Mediouna ', 'Meknès ', 'Midelt ', 'Mohammedia ', 'Nador ', 'Nouaceur ', 'Oualidia ', 'Ouarzazate ', 'Ouazzane ', 'Oujda ', 'Rabat ', 'Safi ', 'Saidia ', 'Salé ', 'Sefrou ', 'Settat ', 'Sidi Bennour ', 'Sidi Rahal ', 'Sidi Slimane ', 'Sidi kacem ', 'Souk Elarbaa Du Gharb ', 'Tamensourte ', 'Tamesna ', 'Tanger ', 'Tarfaya ', 'Taroudant ', 'Taza ', 'Temara ', 'Tetouan ', 'Tifelt ', 'Tinghir ', 'Tiznit ', 'Tout le Maroc / A distance ', 'Youssoufia ', 'Zagora ', 'ksar el kebir ']\n"
     ]
    }
   ],
   "source": [
    "data['location'] = data['location'].str.replace('Tout le Maroc','Tout le Maroc / A distance')\n",
    "unique_elements = list(set(data['location'].unique()))\n",
    "\n",
    "sorted_unique_elements = sorted(unique_elements)\n",
    "\n",
    "print(sorted_unique_elements)"
   ]
  },
  {
   "cell_type": "markdown",
   "id": "aae2b5a3",
   "metadata": {},
   "source": [
    "## more_info"
   ]
  },
  {
   "cell_type": "code",
   "execution_count": 295,
   "id": "750bc097",
   "metadata": {},
   "outputs": [
    {
     "data": {
      "text/html": [
       "<div>\n",
       "<style scoped>\n",
       "    .dataframe tbody tr th:only-of-type {\n",
       "        vertical-align: middle;\n",
       "    }\n",
       "\n",
       "    .dataframe tbody tr th {\n",
       "        vertical-align: top;\n",
       "    }\n",
       "\n",
       "    .dataframe thead th {\n",
       "        text-align: right;\n",
       "    }\n",
       "</style>\n",
       "<table border=\"1\" class=\"dataframe\">\n",
       "  <thead>\n",
       "    <tr style=\"text-align: right;\">\n",
       "      <th></th>\n",
       "      <th>0</th>\n",
       "      <th>1</th>\n",
       "      <th>2</th>\n",
       "      <th>3</th>\n",
       "      <th>4</th>\n",
       "      <th>5</th>\n",
       "      <th>6</th>\n",
       "      <th>7</th>\n",
       "    </tr>\n",
       "  </thead>\n",
       "  <tbody>\n",
       "    <tr>\n",
       "      <th>0</th>\n",
       "      <td>Domaine</td>\n",
       "      <td>Services à La Personne Fonction</td>\n",
       "      <td>Cuisinier/Serveur(se)/Femme ménage/Nounou Con...</td>\n",
       "      <td>A discuter Entreprise</td>\n",
       "      <td>Sabim shop Salaire</td>\n",
       "      <td>A discuter Niveau d'études</td>\n",
       "      <td>Niveau Bac</td>\n",
       "      <td>None</td>\n",
       "    </tr>\n",
       "    <tr>\n",
       "      <th>1</th>\n",
       "      <td>Domaine</td>\n",
       "      <td>Commercial / Vente Fonction</td>\n",
       "      <td>Commercial Vendeur magasin/Showroom Contrat</td>\n",
       "      <td>A discuter Entreprise</td>\n",
       "      <td>Confidentiel  Salaire</td>\n",
       "      <td>A discuter Niveau d'études</td>\n",
       "      <td>Bac plus 2</td>\n",
       "      <td>None</td>\n",
       "    </tr>\n",
       "    <tr>\n",
       "      <th>2</th>\n",
       "      <td>Domaine</td>\n",
       "      <td>Banque / Finance / Assurance Fonction</td>\n",
       "      <td>Commercial particuliers (B2C) Contrat</td>\n",
       "      <td>CDI Entreprise</td>\n",
       "      <td>Prive Salaire</td>\n",
       "      <td>A discuter Niveau d'études</td>\n",
       "      <td>Bac plus 2</td>\n",
       "      <td>None</td>\n",
       "    </tr>\n",
       "    <tr>\n",
       "      <th>3</th>\n",
       "      <td>Domaine</td>\n",
       "      <td>Tourisme / Hôtellerie / Restauration Fonction</td>\n",
       "      <td>Assistant/Ventes/Accueil Contrat</td>\n",
       "      <td>CDI Entreprise</td>\n",
       "      <td>confidentiel Salaire</td>\n",
       "      <td>A discuter Niveau d'études</td>\n",
       "      <td>Bac plus 3</td>\n",
       "      <td>None</td>\n",
       "    </tr>\n",
       "    <tr>\n",
       "      <th>4</th>\n",
       "      <td>Domaine</td>\n",
       "      <td>Immobilier Fonction</td>\n",
       "      <td>Commercial professionnels (B2B) Contrat</td>\n",
       "      <td>CDI Entreprise</td>\n",
       "      <td>FIRST ONE IMMOBILIER Salaire</td>\n",
       "      <td>A discuter Niveau d'études</td>\n",
       "      <td>Bac plus 3</td>\n",
       "      <td>None</td>\n",
       "    </tr>\n",
       "  </tbody>\n",
       "</table>\n",
       "</div>"
      ],
      "text/plain": [
       "           0                                                1  \\\n",
       "0   Domaine                  Services à La Personne Fonction    \n",
       "1   Domaine                      Commercial / Vente Fonction    \n",
       "2   Domaine            Banque / Finance / Assurance Fonction    \n",
       "3   Domaine    Tourisme / Hôtellerie / Restauration Fonction    \n",
       "4   Domaine                              Immobilier Fonction    \n",
       "\n",
       "                                                   2                        3  \\\n",
       "0   Cuisinier/Serveur(se)/Femme ménage/Nounou Con...   A discuter Entreprise    \n",
       "1       Commercial Vendeur magasin/Showroom Contrat    A discuter Entreprise    \n",
       "2             Commercial particuliers (B2C) Contrat           CDI Entreprise    \n",
       "3                  Assistant/Ventes/Accueil Contrat           CDI Entreprise    \n",
       "4           Commercial professionnels (B2B) Contrat           CDI Entreprise    \n",
       "\n",
       "                                4                             5             6  \\\n",
       "0             Sabim shop Salaire    A discuter Niveau d'études    Niveau Bac    \n",
       "1          Confidentiel  Salaire    A discuter Niveau d'études    Bac plus 2    \n",
       "2                  Prive Salaire    A discuter Niveau d'études    Bac plus 2    \n",
       "3           confidentiel Salaire    A discuter Niveau d'études    Bac plus 3    \n",
       "4   FIRST ONE IMMOBILIER Salaire    A discuter Niveau d'études    Bac plus 3    \n",
       "\n",
       "      7  \n",
       "0  None  \n",
       "1  None  \n",
       "2  None  \n",
       "3  None  \n",
       "4  None  "
      ]
     },
     "execution_count": 295,
     "metadata": {},
     "output_type": "execute_result"
    }
   ],
   "source": [
    "data['more_info'].str.split(':', expand = True).head()"
   ]
  },
  {
   "cell_type": "code",
   "execution_count": 296,
   "id": "c7a0f57f",
   "metadata": {},
   "outputs": [],
   "source": [
    "data['domaine'] = data['more_info'].str.split(':', expand = True)[1]\n",
    "data['contrat'] = data['more_info'].str.split(':', expand = True)[3]\n",
    "data['salaire'] = data['more_info'].str.split(':', expand = True)[5]\n",
    "data['etude'] = data['more_info'].str.split(':', expand = True)[6]\n",
    "data['domaine'] = data['domaine'].apply(lambda x: ' '.join(x.split()[:-1]))\n",
    "data['contrat'] = data['contrat'].apply(lambda x: ' '.join(x.split()[:-1]))\n",
    "data['salaire'] = data['salaire'].apply(lambda x: ' '.join(x.split()[:-2]))\n",
    "data.drop(columns=['Unnamed: 0'],inplace=True)\n",
    "data.drop(columns=['more_info'],inplace=True)"
   ]
  },
  {
   "cell_type": "markdown",
   "id": "bf341fde",
   "metadata": {},
   "source": [
    "## etude"
   ]
  },
  {
   "cell_type": "code",
   "execution_count": 297,
   "id": "f9dcd6da",
   "metadata": {},
   "outputs": [],
   "source": [
    "data['etude'] = data['etude'].str.replace(r'Not important','Pas important').str.strip()\n",
    "data['etude'] = data['etude'].str.replace(r'البكالوريا بلس 2','Bac plus 2').str.strip()\n",
    "data['etude'] = data['etude'].str.replace(r'البكالوريا بلس 3','Bac plus 3').str.strip()\n",
    "data['etude'] = data['etude'].str.replace(r'البكالوريا بلس 4','Bac plus 4').str.strip()\n",
    "data['etude'] = data['etude'].str.replace(r'البكالوريا بلس 5','Bac plus 5').str.strip()\n",
    "data['etude'] = data['etude'].str.replace(r'البكالوريا','Bac').str.strip()\n",
    "data['etude'] = data['etude'].str.replace(r'Bac','Bac').str.strip()\n",
    "data['etude'] = data['etude'].str.replace(r'ليس مهم','Pas important').str.strip()\n",
    "data['etude'] = data['etude'].str.replace(r'ليس مهما','Pas important').str.strip()"
   ]
  },
  {
   "cell_type": "code",
   "execution_count": 298,
   "id": "aaa0632f",
   "metadata": {},
   "outputs": [
    {
     "data": {
      "text/plain": [
       "Bac plus 2       8541\n",
       "Pas important    4610\n",
       "Bac plus 3       4224\n",
       "Bac plus 5       2670\n",
       "Niveau Bac       1662\n",
       "Bac plus 4        909\n",
       "Name: etude, dtype: int64"
      ]
     },
     "execution_count": 298,
     "metadata": {},
     "output_type": "execute_result"
    }
   ],
   "source": [
    "values_to_keep = ['Bac plus 2', 'Pas important', 'Bac plus 3', 'Bac plus 5', 'Niveau Bac', 'Bac plus 4','Bac']\n",
    "data = data[data['etude'].isin(values_to_keep)]\n",
    "data['etude'].value_counts()"
   ]
  },
  {
   "cell_type": "markdown",
   "id": "96c5a411",
   "metadata": {},
   "source": [
    "## salaire"
   ]
  },
  {
   "cell_type": "code",
   "execution_count": 299,
   "id": "3661bb79",
   "metadata": {},
   "outputs": [],
   "source": [
    "data['salaire'] = data['salaire'].str.replace(r'To be discussed','A discuter').str.strip()\n",
    "data['salaire'] = data['salaire'].str.replace(r'To discuss','A discuter').str.strip()\n",
    "data['salaire'] = data['salaire'].str.replace(r'يناقش','A discuter').str.strip()"
   ]
  },
  {
   "cell_type": "code",
   "execution_count": 300,
   "id": "b0bee98a",
   "metadata": {},
   "outputs": [
    {
     "data": {
      "text/plain": [
       "A discuter           17327\n",
       "3 000 - 4 000 DH      1658\n",
       "2 000 - 3 000 DH      1526\n",
       "4 000 - 6 000 DH       999\n",
       "6 000 - 8 000 DH       354\n",
       "Commission             350\n",
       "Plus de 10 000 DH      228\n",
       "8 000 - 10 000 DH      129\n",
       "Plus de 20 000 DH       35\n",
       "Plus de 30 000 DH        8\n",
       "Name: salaire, dtype: int64"
      ]
     },
     "execution_count": 300,
     "metadata": {},
     "output_type": "execute_result"
    }
   ],
   "source": [
    "values_to_salaire = [r'A discuter', '2 000 - 3 000 DH', '3 000 - 4 000 DH', '4 000 - 6 000 DH', '6 000 - 8 000 DH', '8 000 - 10 000 DH','Plus de 10 000 DH','Plus de 20 000 DH','Plus de 30 000 DH','Commission']\n",
    "data = data[data['salaire'].isin(values_to_salaire)]\n",
    "data['salaire'].value_counts()"
   ]
  },
  {
   "cell_type": "markdown",
   "id": "a017a9bc",
   "metadata": {},
   "source": [
    "## contrat"
   ]
  },
  {
   "cell_type": "code",
   "execution_count": 301,
   "id": "26927482",
   "metadata": {},
   "outputs": [],
   "source": [
    "data['contrat'] = data['contrat'].str.replace(r'يناقش','A discuter')\n",
    "data['contrat'] = data['contrat'].str.replace(r'To discuss','A discuter')\n",
    "data['contrat'] = data['contrat'].str.replace(r'Internship','Stage')"
   ]
  },
  {
   "cell_type": "code",
   "execution_count": 302,
   "id": "0fbf13bc",
   "metadata": {},
   "outputs": [
    {
     "data": {
      "text/plain": [
       "A discuter    9657\n",
       "CDI           7693\n",
       "Interim       1768\n",
       "Stage         1607\n",
       "CDD           1283\n",
       "Anapec         606\n",
       "Name: contrat, dtype: int64"
      ]
     },
     "execution_count": 302,
     "metadata": {},
     "output_type": "execute_result"
    }
   ],
   "source": [
    "values_to_contrat = [r'A discuter', 'CDI' ,'Interim' ,'Stage', 'CDD' ,'Anapec']\n",
    "data = data[data['contrat'].isin(values_to_contrat)]\n",
    "data['contrat'].value_counts()"
   ]
  },
  {
   "cell_type": "markdown",
   "id": "75ea986f",
   "metadata": {},
   "source": [
    "## domaine"
   ]
  },
  {
   "cell_type": "code",
   "execution_count": 303,
   "id": "ee3cc196",
   "metadata": {},
   "outputs": [
    {
     "data": {
      "text/plain": [
       "Tourisme / Hôtellerie / Restauration            3322\n",
       "Commercial / Vente                              2377\n",
       "Industrie / Ingénierie / Energie                1686\n",
       "Autre                                           1588\n",
       "Education / Social / Petite Enfance             1515\n",
       "Accueil / Secrétariat / Administration          1453\n",
       "Informatique / Multimédia / Internet            1233\n",
       "Construction / Btp                              1180\n",
       "Comptabilité / Gestion / Audit                  1156\n",
       "Marketing / Communication / Publicité / Rp       779\n",
       "Transport / Achat / Logistique                   686\n",
       "Santé / Médical                                  619\n",
       "Banque / Finance / Assurance                     597\n",
       "Grande Distribution                              566\n",
       "Automobile                                       456\n",
       "Maintenance / Entretien                          454\n",
       "Ressources Humaines / Recrutement / Intérim      369\n",
       "Sécurité / Surveillance / Gardiennage            337\n",
       "Immobilier                                       297\n",
       "Entreprise / Import / Export                     270\n",
       "Mode / Luxe / Beauté                             254\n",
       "Agriculture / Environnement / Espaces Verts      239\n",
       "Urbanisme / Architecture / Aménagement           205\n",
       "Services aux Entreprises / Formation             199\n",
       "Biologie / Chimie / Pharmaceutique               194\n",
       "Édition / Imprimerie / Journalisme               128\n",
       "International / Télécommunication                119\n",
       "Droit / Justice / Association                    108\n",
       "Commerce / Artisanat                             100\n",
       "Services à La Personne                            56\n",
       "Médias / Art / Culture                            49\n",
       "Secteur Public                                     9\n",
       "Tourism / Hospitality / Catering                   4\n",
       "Marketing / Communication / Advertising / PR       3\n",
       "Fashion / Luxury / Beauty                          2\n",
       "Construction / Public works                        1\n",
       "Name: domaine, dtype: int64"
      ]
     },
     "execution_count": 303,
     "metadata": {},
     "output_type": "execute_result"
    }
   ],
   "source": [
    "pattern_french = re.compile(r'[A-Za-zÀ-ÿ\\s]+')\n",
    "\n",
    "data = data[data['domaine'].str.match(pattern_french, na=False)]\n",
    "\n",
    "data['domaine'].value_counts()"
   ]
  },
  {
   "cell_type": "markdown",
   "id": "7a80c466",
   "metadata": {},
   "source": [
    "## experiences"
   ]
  },
  {
   "cell_type": "code",
   "execution_count": 305,
   "id": "923392d1",
   "metadata": {},
   "outputs": [],
   "source": [
    "data.loc[data['experience'].str.contains(r'2 mois|2 Mois|2mois', case=False, na=False), 'experience'] = \"2 mois\"\n",
    "data.loc[data['experience'].str.contains(r'3 mois|3 Mois|3mois', case=False, na=False), 'experience'] = \"3 mois\"\n",
    "data.loc[data['experience'].str.contains(r'4 mois|4 Mois|4mois', case=False, na=False), 'experience'] = \"4 mois\"\n",
    "data.loc[data['experience'].str.contains(r'5 mois|5 Mois|5mois', case=False, na=False), 'experience'] = \"5 mois\"\n",
    "data.loc[data['experience'].str.contains(r'6 mois|6 Mois|6mois', case=False, na=False), 'experience'] = \"6 mois\"\n",
    "data.loc[data['experience'].str.contains(r'un an|1 an|1an', case=False, na=False), 'experience'] = \"1 ans\"\n",
    "data.loc[data['experience'].str.contains(r'2 ans| 2ans', case=False, na=False), 'experience'] = \"2 ans\"\n",
    "data.loc[data['experience'].str.contains(r'3 ans| 3ans', case=False, na=False), 'experience'] = \"3 ans\"\n",
    "data.loc[data['experience'].str.contains(r'4 ans| 4ans', case=False, na=False), 'experience'] = \"4 ans\"\n",
    "data.loc[data['experience'].str.contains(r'5 ans| 5ans', case=False, na=False), 'experience'] = \"5 ans\"\n",
    "data.loc[data['experience'].str.contains(r'6 ans| 6ans', case=False, na=False), 'experience'] = \"6 ans\"\n",
    "data.loc[data['experience'].str.contains(r'7 ans| 7ans', case=False, na=False), 'experience'] = \"7 ans\"\n",
    "data.loc[data['experience'].str.contains(r'8 ans| 8ans', case=False, na=False), 'experience'] = \"8 ans\"\n",
    "data.loc[data['experience'].str.contains(r'9 ans| 9ans', case=False, na=False), 'experience'] = \"9 ans\"\n",
    "data.loc[data['experience'].str.contains(r'10 ans| 10ans', case=False, na=False), 'experience'] = \"10 ans\"\n",
    "data.loc[data['experience'].str.contains(r'No experience|Non experience', case=False, na=False), 'experience'] = \"Pas neccessaire\"\n",
    "data.loc[data['experience'].str.contains(r\"expérience|Expérience|Experience|l’EXPÉRIENCE|EXPERIENCE|experience|expérimentées|l'expérience|d'expérience|d'expérience\", case=False, na=False), 'experience'] = \"Deja Expérience/expérimentées/Premiere experiences \"\n"
   ]
  },
  {
   "cell_type": "code",
   "execution_count": 306,
   "id": "c6cf4350",
   "metadata": {},
   "outputs": [
    {
     "data": {
      "text/plain": [
       "Pas neccessaire                                        11277\n",
       "Deja Expérience/expérimentées/Premiere experiences      6978\n",
       "2 ans                                                   1331\n",
       "5 ans                                                    992\n",
       "3 ans                                                    959\n",
       "1 ans                                                    508\n",
       "4 ans                                                    189\n",
       "10 ans                                                   136\n",
       "6 mois                                                    82\n",
       "6 ans                                                     60\n",
       "8 ans                                                     36\n",
       "7 ans                                                     35\n",
       "3 mois                                                    17\n",
       "2 mois                                                    10\n",
       "Name: experience, dtype: int64"
      ]
     },
     "execution_count": 306,
     "metadata": {},
     "output_type": "execute_result"
    }
   ],
   "source": [
    "data['experience'].value_counts()"
   ]
  },
  {
   "cell_type": "markdown",
   "id": "797a6f91",
   "metadata": {},
   "source": [
    "## titles "
   ]
  },
  {
   "cell_type": "code",
   "execution_count": 307,
   "id": "4bd81c34",
   "metadata": {},
   "outputs": [],
   "source": [
    "jobs = data.loc[~data['titles'].str.contains(r'stag|Stag|STAG')]"
   ]
  },
  {
   "cell_type": "code",
   "execution_count": 308,
   "id": "a5a78f0d",
   "metadata": {},
   "outputs": [],
   "source": [
    "# Regular expression for French text\n",
    "pattern_french = re.compile(r'[A-Za-zÀ-ÿ\\s]+')\n",
    "\n",
    "# Filtering non-French rows\n",
    "jobs = jobs[jobs['titles'].str.match(pattern_french, na=False)]\n"
   ]
  },
  {
   "cell_type": "code",
   "execution_count": 313,
   "id": "5d00b48c",
   "metadata": {},
   "outputs": [
    {
     "name": "stderr",
     "output_type": "stream",
     "text": [
      "C:\\Users\\Dell\\AppData\\Local\\Temp\\ipykernel_13976\\3529171738.py:9: UserWarning: This pattern is interpreted as a regular expression, and has match groups. To actually get the groups, use str.extract.\n",
      "  jobs.loc[jobs['titles'].str.contains(r'Maîtresse|Maitresse|Maître|Maitre|educat|éducat|enseignant|enseignant(e)|Enseig|ENSEINGNANTS', case=False, na=False), 'titles'] = \"Maitre(sse)/educatrice/Enseignante\"\n"
     ]
    }
   ],
   "source": [
    "jobs.loc[(jobs['titles'].str.contains(r'assis', case=False, na=False)) & (jobs['titles'].str.contains(r'admini', case=False, na=False)), 'titles'] = \"Assistant(e) administrative\"\n",
    "jobs.loc[(jobs['titles'].str.contains(r'assis', case=False, na=False)) & (jobs['titles'].str.contains(r'direc', case=False, na=False)), 'titles'] = \"Assistant(e) de direction\"\n",
    "jobs.loc[(jobs['titles'].str.contains(r'assis', case=False, na=False)) & (jobs['titles'].str.contains(r'polyv', case=False, na=False)), 'titles'] = \"Assistant(e) polyvalente \"\n",
    "jobs.loc[jobs['titles'].str.contains(r'gestion ', case=False, na=False), 'titles'] = \"Assistant(e) de gestion\"\n",
    "jobs.loc[jobs['titles'].str.contains(r'gestionnaire', case=False, na=False), 'titles'] = \"Gestionnaire\"\n",
    "jobs.loc[jobs['titles'].str.contains(r'achete|achat', case=False, na=False), 'titles'] = \"Acheteur/Responsable achat/Assistant(e) achat\"\n",
    "jobs.loc[jobs['titles'].str.contains(r'prof |professeur', case=False, na=False), 'titles'] = \"Professeur\"\n",
    "jobs.loc[jobs['titles'].str.contains(r'formateur|formatrice', case=False, na=False), 'titles'] = \"Formateur/Formatrice\"\n",
    "jobs.loc[jobs['titles'].str.contains(r'Maîtresse|Maitresse|Maître|Maitre|educat|éducat|enseignant|enseignant(e)|Enseig|ENSEINGNANTS', case=False, na=False), 'titles'] = \"Maitre(sse)/educatrice/Enseignante\"\n",
    "jobs.loc[jobs['titles'].str.contains(r'juri', case=False, na=False), 'titles'] = \"Assistant(e) juridice/Juriste\"\n",
    "jobs.loc[jobs['titles'].str.contains(r'avocat', case=False, na=False), 'titles'] = \"Avocat\"\n",
    "jobs.loc[jobs['titles'].str.contains(r'commerc|comerc', case=False, na=False), 'titles'] = \"Commercial(e)/ assistant(e) commerciale(e)\"\n",
    "jobs.loc[jobs['titles'].str.contains(r'compta|comtable|compat', case=False, na=False), 'titles'] = \"Compatble/ assistant(e) comptable\"\n",
    "jobs.loc[jobs['titles'].str.contains(r'infog|design|Graphiste|graph|webdesig', case=False, na=False), 'titles'] = \"Infographiste/web designer/Graphiste\"\n",
    "jobs.loc[jobs['titles'].str.contains(r'community', case=False, na=False), 'titles'] = \"Community manager\"\n",
    "jobs.loc[jobs['titles'].str.contains(r'communication', case=False, na=False), 'titles'] = \"Agent de communication\"\n",
    "jobs.loc[jobs['titles'].str.contains(r'developpeur|développeur|programmeur|python|java|Fullstack|php|js',case=False, na=False), 'titles'] = \"Développeur Web\"\n",
    "jobs.loc[jobs['titles'].str.contains(r'marketin|Webmarkteur|markete', case=False, na=False), 'titles'] = \"Marketing digital/Web-markteur\"\n",
    "jobs.loc[jobs['titles'].str.contains(r'ads|seo', case=False, na=False), 'titles'] = \"Ads & SEO expert\"\n",
    "jobs.loc[jobs['titles'].str.contains(r'E-commerce|ecommerce|dropshipping', case=False, na=False), 'titles'] = \"E-commerce/dropshipping Spécialiste \"\n",
    "jobs.loc[jobs['titles'].str.contains(r'video|Vidéaste|Vidéo', case=False, na=False), 'titles'] = \"video montage/Vidéaste/Videography\"\n",
    "jobs.loc[jobs['titles'].str.contains(r'vend', case=False, na=False), 'titles'] = \"vendeur/vendeuse\"\n",
    "jobs.loc[jobs['titles'].str.contains(r'RH|humain|HR ', case=False, na=False), 'titles'] = \"RH/ assistant(e) RH\"\n",
    "jobs.loc[jobs['titles'].str.contains(r'civil|genie |génie ', case=False, na=False), 'titles'] = \"Ingénieur Génie Civil/Technicien génie civile\"\n",
    "jobs.loc[jobs['titles'].str.contains(r'logisti|transpo', case=False, na=False), 'titles'] = \"Logistique et transport\"\n",
    "jobs.loc[jobs['titles'].str.contains(r'touris|tourisme', case=False, na=False), 'titles'] = \"agent de tourisme\"\n",
    "jobs.loc[jobs['titles'].str.contains(r'secret|secrét', case=False, na=False), 'titles'] = \"secrétaire\"\n",
    "jobs.loc[jobs['titles'].str.contains(r'pharmacienne|pharmaci', case=False, na=False), 'titles'] = \"pharmacienne\"\n",
    "jobs.loc[jobs['titles'].str.contains(r'dentaire', case=False, na=False), 'titles'] = \"assistant(e) dentaire\"\n",
    "jobs.loc[jobs['titles'].str.contains(r'standar', case=False, na=False), 'titles'] = \"assistant(e) standariste\"\n",
    "jobs.loc[jobs['titles'].str.contains(r'livre', case=False, na=False), 'titles'] = \"livreur\"\n",
    "jobs.loc[jobs['titles'].str.contains(r'serve', case=False, na=False), 'titles'] = \"serveur/serveuse\"\n",
    "jobs.loc[jobs['titles'].str.contains(r'saisie', case=False, na=False), 'titles'] = \"Opératreur(ice) de saisie\"\n",
    "jobs.loc[jobs['titles'].str.contains(r'operation|opération', case=False, na=False), 'titles'] = \"Agent d'opération\"\n",
    "jobs.loc[jobs['titles'].str.contains(r'assuran', case=False, na=False), 'titles'] = \"assitant(e) en assurance\"\n",
    "jobs.loc[jobs['titles'].str.contains(r'maintenance', case=False, na=False), 'titles'] = \"Technicien en Maintenance\"\n",
    "jobs.loc[jobs['titles'].str.contains(r'accueil|acceuil', case=False, na=False), 'titles'] = \"Agent d'accueil/Hotesse d'acceuil\"\n",
    "jobs.loc[jobs['titles'].str.contains(r'électricien|electricien|electro|électro|Electricité|éléctr', case=False, na=False), 'titles'] = \"electricien/Chargé en Electricité\"\n",
    "jobs.loc[jobs['titles'].str.contains(r'cuisin', case=False, na=False), 'titles'] = \"cuisinier\"\n",
    "jobs.loc[jobs['titles'].str.contains(r'mecanqiue|mécanique|Mécanicien|mecani', case=False, na=False), 'titles'] = \"fabrication mécanique/Mécanicien\"\n",
    "jobs.loc[jobs['titles'].str.contains(r'Conseiller|conseill|clientèle|clientele|client', case=False, na=False), 'titles'] = \"Conseiller/Chargé clientèle\"\n",
    "jobs.loc[jobs['titles'].str.contains(r'portefeuil|portefeuille', case=False, na=False), 'titles'] = \"chargé portefeuille\"\n",
    "jobs.loc[jobs['titles'].str.contains(r'recouvrement', case=False, na=False), 'titles'] = \"chargés de recouvrement\"\n",
    "jobs.loc[jobs['titles'].str.contains(r'Barman|bar', case=False, na=False), 'titles'] = \"Barman\"\n",
    "jobs.loc[jobs['titles'].str.contains(r'menage|ménage|chambre|NETTOYAGE|nettoyage', case=False, na=False), 'titles'] = \"femme de ménage\"\n",
    "jobs.loc[jobs['titles'].str.contains(r'Magasinier|magas', case=False, na=False), 'titles'] = \"Magasinier\"\n",
    "jobs.loc[jobs['titles'].str.contains(r'coiff', case=False, na=False), 'titles'] = \"Coiffeuse\"\n",
    "jobs.loc[jobs['titles'].str.contains(r'rang|RANG', case=False, na=False), 'titles'] = \"Chef de rang/ commis de rang\"\n",
    "jobs.loc[jobs['titles'].str.contains(r'Auxiliaire de vie|Auxiliaire|vie', case=False, na=False), 'titles'] = \"Auxiliaire de vie\"\n",
    "jobs.loc[jobs['titles'].str.contains(r'gerant|gérant', case=False, na=False), 'titles'] = \"Gérant\"\n",
    "jobs.loc[jobs['titles'].str.contains(r'cable', case=False, na=False), 'titles'] = \"cableur\"\n",
    "jobs.loc[jobs['titles'].str.contains(r'directr|directe', case=False, na=False), 'titles'] = \"Directeur/Directrice\"\n",
    "jobs.loc[jobs['titles'].str.contains(r'Chauffeur|CHAUFEUR', case=False, na=False), 'titles'] = \"Chauffeur\"\n",
    "jobs.loc[jobs['titles'].str.contains(r'plomb', case=False, na=False), 'titles'] = \"Plombier\"\n",
    "jobs.loc[jobs['titles'].str.contains(r'caiss', case=False, na=False), 'titles'] = \"Caissier/Caissière\"\n",
    "jobs.loc[jobs['titles'].str.contains(r'model|modeliste|modél', case=False, na=False), 'titles'] = \"Model\"\n",
    "jobs.loc[jobs['titles'].str.contains(r'consult', case=False, na=False), 'titles'] = \"Consultant\"\n",
    "jobs.loc[jobs['titles'].str.contains(r'contro|Contrô', case=False, na=False), 'titles'] = \"Contrôleur\"\n",
    "jobs.loc[jobs['titles'].str.contains(r'chantier', case=False, na=False), 'titles'] = \"Chef de chantier\"\n",
    "jobs.loc[jobs['titles'].str.contains(r'projet ', case=False, na=False), 'titles'] = \"Chef de projet\"\n",
    "jobs.loc[jobs['titles'].str.contains(r'partie', case=False, na=False), 'titles'] = \"Chef de partie\"\n",
    "jobs.loc[jobs['titles'].str.contains(r'équipe|equipe', case=False, na=False), 'titles'] = \"chef d'equipe\"\n",
    "jobs.loc[jobs['titles'].str.contains(r'recept|récep', case=False, na=False), 'titles'] = \"Agent de reception/Receptionniste\"\n",
    "jobs.loc[jobs['titles'].str.contains(r'vent', case=False, na=False), 'titles'] = \"Responsable/Administrateur des ventes\"\n",
    "jobs.loc[jobs['titles'].str.contains(r'office', case=False, na=False), 'titles'] = \"Front office/Back office/Office manager\"\n",
    "jobs.loc[jobs['titles'].str.contains(r'aide', case=False, na=False), 'titles'] = \"Aide general(e)\"\n",
    "jobs.loc[jobs['titles'].str.contains(r'sushi', case=False, na=False), 'titles'] = \"sushiman\"\n",
    "jobs.loc[jobs['titles'].str.contains(r'pizza', case=False, na=False), 'titles'] = \"Pizzaiolo\"\n",
    "jobs.loc[jobs['titles'].str.contains(r'patis', case=False, na=False), 'titles'] = \"Patissier/patissière\"\n",
    "jobs.loc[jobs['titles'].str.contains(r'Boulan', case=False, na=False), 'titles'] =   \"Boulangerie\"\n",
    "jobs.loc[jobs['titles'].str.contains(r'spa ', case=False, na=False), 'titles'] = \"Spa thérapeute\"\n",
    "jobs.loc[jobs['titles'].str.contains(r'recept|récept', case=False, na=False), 'titles'] = \"Réceptionniste\"\n",
    "jobs.loc[jobs['titles'].str.contains(r'mede|méde', case=False, na=False), 'titles'] = \"médcin(e)\"\n",
    "jobs.loc[jobs['titles'].str.contains(r'Conducteur', case=False, na=False), 'titles'] = \"Conducteur de Travaux\"\n",
    "jobs.loc[jobs['titles'].str.contains(r'dessin', case=False, na=False), 'titles'] = \"Dessinateur/Projeteur/2D-3D\"\n",
    "jobs.loc[jobs['titles'].str.contains(r'Infirmi', case=False, na=False), 'titles'] = \"Infirmière\"\n",
    "jobs.loc[jobs['titles'].str.contains(r'menuis', case=False, na=False), 'titles'] = \"Menuisier\"\n",
    "jobs.loc[jobs['titles'].str.contains(r'plong', case=False, na=False), 'titles'] = \"Plongeur\"\n",
    "jobs.loc[jobs['titles'].str.contains(r'soud', case=False, na=False), 'titles'] = \"Soudeur\"\n",
    "jobs.loc[jobs['titles'].str.contains(r'pompi', case=False, na=False), 'titles'] = \"Pompiste\"\n",
    "jobs.loc[jobs['titles'].str.contains(r'tourn', case=False, na=False), 'titles'] = \"Tourneur\"\n",
    "jobs.loc[jobs['titles'].str.contains(r'factur', case=False, na=False), 'titles'] = \"Agent de Facturation\"\n",
    "jobs.loc[jobs['titles'].str.contains(r'import|export', case=False, na=False), 'titles'] = \"assistant(e)/agent import-export\"\n",
    "jobs.loc[jobs['titles'].str.contains(r'Délégué|delegue', case=False, na=False), 'titles'] = \"Délégué\"\n",
    "jobs.loc[jobs['titles'].str.contains(r'gardie', case=False, na=False), 'titles'] = \"Agent de gardiennage\"\n",
    "jobs.loc[jobs['titles'].str.contains(r'surveill|surveillant', case=False, na=False), 'titles'] = \"Surveillant/Video surveillance\"\n",
    "jobs.loc[jobs['titles'].str.contains(r'data', case=False, na=False), 'titles'] = \"Data manager\"\n",
    "jobs.loc[jobs['titles'].str.contains(r'Business analyst|analyst', case=False, na=False), 'titles'] = \"Business analyst\"\n",
    "jobs.loc[jobs['titles'].str.contains(r'animate', case=False, na=False), 'titles'] = \"Animateur\"\n",
    "jobs.loc[jobs['titles'].str.contains(r'Déclarant|declarant', case=False, na=False), 'titles'] = \"Déclarant en douane \"\n",
    "jobs.loc[jobs['titles'].str.contains(r'distribu', case=False, na=False), 'titles'] = \"Distributeur\"\n",
    "jobs.loc[jobs['titles'].str.contains(r'metere|métre', case=False, na=False), 'titles'] = \"Métreur\"\n",
    "jobs.loc[jobs['titles'].str.contains(r'coursi', case=False, na=False), 'titles'] = \"Coursier\"\n",
    "jobs.loc[jobs['titles'].str.contains(r'prepa|Prép', case=False, na=False), 'titles'] = \"Preparateur de commande\"\n",
    "jobs.loc[jobs['titles'].str.contains(r'archi', case=False, na=False), 'titles'] = \"Archiviste\"\n",
    "jobs.loc[jobs['titles'].str.contains(r'enquêt', case=False, na=False), 'titles'] = \"enquêteur\"\n",
    "jobs.loc[jobs['titles'].str.contains(r'planification|plani', case=False, na=False), 'titles'] = \"Planificateur/Ingénieur planification \"\n",
    "jobs.loc[jobs['titles'].str.contains(r'jardi', case=False, na=False), 'titles'] = \"Jardinier\"\n",
    "jobs.loc[jobs['titles'].str.contains(r'tradu', case=False, na=False), 'titles'] = \"Traducteur\"\n",
    "jobs.loc[jobs['titles'].str.contains(r'réservation|réserv|reserv', case=False, na=False), 'titles'] = \"Agent de réservation\"\n",
    "jobs.loc[jobs['titles'].str.contains(r'ouvrie', case=False, na=False), 'titles'] =\"Ouvrier\"\n",
    "jobs.loc[jobs['titles'].str.contains(r'lavage', case=False, na=False), 'titles'] = \"Lavage\"\n",
    "jobs.loc[jobs['titles'].str.contains(r'audi', case=False, na=False), 'titles'] = \"Audite\"\n",
    "jobs.loc[jobs['titles'].str.contains(r'Coach|fitnes', case=False, na=False), 'titles'] =\"Coach sportif\"\n",
    "jobs.loc[jobs['titles'].str.contains(r'sécurité|secu|sécu', case=False, na=False), 'titles'] =\"Agent de sécurité\"\n",
    "jobs.loc[jobs['titles'].str.contains(r'food|brunch|crep|crêp|Shawarma|cake|gateau|snak', case=False, na=False), 'titles'] = \"Fast food/Gateux/crepe\"\n",
    "jobs.loc[jobs['titles'].str.contains(r'coord', case=False, na=False), 'titles'] = \"Coordinateur pédagogique/Business\"\n",
    "jobs.loc[jobs['titles'].str.contains(r'qualit', case=False, na=False), 'titles'] = \"Responsable qualité/Ingénieur de Qualité\"\n",
    "jobs.loc[jobs['titles'].str.contains(r'produit', case=False, na=False), 'titles'] = \"Chef de produit\"\n",
    "jobs.loc[jobs['titles'].str.contains(r'production', case=False, na=False), 'titles'] ='Responsable production/Assistant(e) Production'\n",
    "jobs.loc[jobs['titles'].str.contains(r'cadr', case=False, na=False), 'titles'] = \"Cadre\"\n",
    "jobs.loc[jobs['titles'].str.contains(r'Superviseur', case=False, na=False), 'titles'] = \"Superviseur\"\n",
    "jobs.loc[jobs['titles'].str.contains(r'Peint', case=False, na=False), 'titles'] = \"Peintre\"\n",
    "jobs.loc[jobs['titles'].str.contains(r'HSE|QHSE', case=False, na=False), 'titles'] = \"HSE/QHSE\"\n",
    "jobs.loc[jobs['titles'].str.contains(r'exploitation', case=False, na=False), 'titles'] = \"Agent d'exploitation\"\n",
    "jobs.loc[jobs['titles'].str.contains(r'restauran', case=False, na=False), 'titles'] = \"Manager Restaurant/Responsable Restaurant\"\n",
    "jobs.loc[jobs['titles'].str.contains(r'Account', case=False, na=False), 'titles'] = \"Account Manager\"\n",
    "jobs.loc[jobs['titles'].str.contains(r'bure|Administratif', case=False, na=False), 'titles'] = \"Agent de bureau/Agent Administratif\"\n",
    "jobs.loc[jobs['titles'].str.contains(r'adv', case=False, na=False), 'titles'] = \"Chargé ADV\"\n",
    "jobs.loc[jobs['titles'].str.contains(r'showroom', case=False, na=False), 'titles'] = \"Responsable showroom\"\n",
    "jobs.loc[jobs['titles'].str.contains(r'stock', case=False, na=False), 'titles'] = \"Responsable de stock/Gestionnaire de stock\"\n",
    "jobs.loc[jobs['titles'].str.contains(r'Financ', case=False, na=False), 'titles'] = \"Responsable financier\"\n",
    "jobs.loc[jobs['titles'].str.contains(r'voyage', case=False, na=False), 'titles'] = \"Agent de voyage\"\n",
    "jobs.loc[jobs['titles'].str.contains(' IT|IT ', case=False, na=False), 'titles'] = \"IT\"\n",
    "jobs.loc[(jobs['titles'].str.contains(r'Technicien|Téchnicien|informa', case=False, na=False)) & (jobs['titles'].str.contains(r'informa|Réseaux|Reseaux', case=False, na=False)), 'titles'] = \"Technicien Réseaux Informatique\"\n",
    "jobs.loc[jobs['titles'].str.contains(r'help|desk', case=False, na=False), 'titles'] = \"Help desk\"\n",
    "jobs.loc[jobs['titles'].str.contains(r'Technico commercial|technico-commercial', case=False, na=False), 'titles'] = 'Technico-commercial'\n",
    "jobs.loc[jobs['titles'].str.contains(r'froid|climat', case=False, na=False), 'titles'] = \"Technicien de climatisation\"\n",
    "jobs.loc[jobs['titles'].str.contains(r'contenu', case=False, na=False), 'titles']= \"Creator de contenu\"\n"
   ]
  },
  {
   "cell_type": "code",
   "execution_count": null,
   "id": "fa3dc60f",
   "metadata": {},
   "outputs": [],
   "source": [
    "jobs['titles'].value_counts().head(50)"
   ]
  },
  {
   "cell_type": "code",
   "execution_count": 314,
   "id": "d60f51d0",
   "metadata": {},
   "outputs": [],
   "source": [
    "jobs.to_csv('jobs-Finalyyy.csv', index= False)"
   ]
  },
  {
   "cell_type": "code",
   "execution_count": null,
   "id": "efd95e40",
   "metadata": {},
   "outputs": [],
   "source": []
  }
 ],
 "metadata": {
  "kernelspec": {
   "display_name": "Python 3 (ipykernel)",
   "language": "python",
   "name": "python3"
  },
  "language_info": {
   "codemirror_mode": {
    "name": "ipython",
    "version": 3
   },
   "file_extension": ".py",
   "mimetype": "text/x-python",
   "name": "python",
   "nbconvert_exporter": "python",
   "pygments_lexer": "ipython3",
   "version": "3.9.12"
  }
 },
 "nbformat": 4,
 "nbformat_minor": 5
}
